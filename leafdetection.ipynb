{
 "cells": [
  {
   "cell_type": "code",
   "execution_count": 1,
   "id": "fd4d49a1-85d3-4d6c-b9b2-b207cb8ffc7f",
   "metadata": {},
   "outputs": [],
   "source": [
    "import cv2\n",
    "import numpy as np\n",
    "from sklearn.ensemble import RandomForestClassifier\n",
    "from sklearn.model_selection import train_test_split\n",
    "from sklearn.metrics import accuracy_score\n",
    "import os\n",
    "\n"
   ]
  },
  {
   "cell_type": "code",
   "execution_count": 2,
   "id": "31401169-fe77-4b79-9b89-6a69079fce8e",
   "metadata": {},
   "outputs": [
    {
     "name": "stdout",
     "output_type": "stream",
     "text": [
      "Prediction: Banana Leaf 🍌\n"
     ]
    }
   ],
   "source": [
    "import cv2\n",
    "import numpy as np\n",
    "from sklearn.ensemble import RandomForestClassifier\n",
    "import os\n",
    "\n",
    "# 1. Feature extraction function (same as before, but with image check)\n",
    "def extract_leaf_features(image_path):\n",
    "    img = cv2.imread(image_path)\n",
    "    if img is None:\n",
    "        print(f\"[ERROR] Could not read image at path: {image_path}\")\n",
    "        return None\n",
    "    img = cv2.resize(img, (300, 300))\n",
    "    gray = cv2.cvtColor(img, cv2.COLOR_BGR2GRAY)\n",
    "    _, thresh = cv2.threshold(gray, 127, 255, cv2.THRESH_BINARY_INV + cv2.THRESH_OTSU)\n",
    "    contours, _ = cv2.findContours(thresh, cv2.RETR_EXTERNAL, cv2.CHAIN_APPROX_SIMPLE)\n",
    "    if not contours:\n",
    "        return None\n",
    "    cnt = max(contours, key=cv2.contourArea)\n",
    "    area = cv2.contourArea(cnt)\n",
    "    perimeter = cv2.arcLength(cnt, True)\n",
    "    x, y, w, h = cv2.boundingRect(cnt)\n",
    "    aspect_ratio = float(w) / h\n",
    "    extent = float(area) / (w * h)\n",
    "    hull = cv2.convexHull(cnt)\n",
    "    hull_area = cv2.contourArea(hull)\n",
    "    solidity = float(area) / hull_area if hull_area != 0 else 0\n",
    "    return [area, perimeter, aspect_ratio, extent, solidity]\n",
    "\n",
    "# 2. Load dataset and train model\n",
    "def load_dataset(folder_mango, folder_banana, folder_maple):\n",
    "    X, y = [], []\n",
    "    \n",
    "    # Mango leaves\n",
    "    for f in os.listdir(folder_mango):\n",
    "        features = extract_leaf_features(os.path.join(folder_mango, f))\n",
    "        if features:\n",
    "            X.append(features)\n",
    "            y.append(0)  # Mango\n",
    "    \n",
    "    \n",
    "    for f in os.listdir(folder_banana):\n",
    "        features = extract_leaf_features(os.path.join(folder_banana, f))\n",
    "        if features:\n",
    "            X.append(features)\n",
    "            y.append(1)  \n",
    "    \n",
    "\n",
    "    for f in os.listdir(folder_maple):\n",
    "        features = extract_leaf_features(os.path.join(folder_maple, f))\n",
    "        if features:\n",
    "            X.append(features)\n",
    "            y.append(2)  \n",
    "\n",
    "    return np.array(X), np.array(y)\n",
    "\n",
    "\n",
    "X, y = load_dataset('dataset/mango', 'dataset/banana', 'dataset/maple')\n",
    "model = RandomForestClassifier()\n",
    "model.fit(X, y)\n",
    "\n",
    "\n",
    "def predict_leaf(image_path):\n",
    "    features = extract_leaf_features(image_path)\n",
    "    if features:\n",
    "        label = model.predict([features])[0]\n",
    "        if label == 0:\n",
    "            return \"Mango Leaf 🥭\"\n",
    "        elif label == 1:\n",
    "            return \"Banana Leaf 🍌\"\n",
    "        elif label == 2:\n",
    "            return \"Maple Leaf 🍁\"\n",
    "    else:\n",
    "        return \"Could not read or process image.\"\n",
    "\n",
    "# Example usage:\n",
    "test_image = 'test_leaf.jpeg' \n",
    "prediction = predict_leaf(test_image)\n",
    "print(f\"Prediction: {prediction}\")\n"
   ]
  },
  {
   "cell_type": "code",
   "execution_count": null,
   "id": "78cad455-231b-498a-9922-3f2f1561d928",
   "metadata": {},
   "outputs": [],
   "source": []
  }
 ],
 "metadata": {
  "kernelspec": {
   "display_name": "Python 3 (ipykernel)",
   "language": "python",
   "name": "python3"
  },
  "language_info": {
   "codemirror_mode": {
    "name": "ipython",
    "version": 3
   },
   "file_extension": ".py",
   "mimetype": "text/x-python",
   "name": "python",
   "nbconvert_exporter": "python",
   "pygments_lexer": "ipython3",
   "version": "3.13.0"
  }
 },
 "nbformat": 4,
 "nbformat_minor": 5
}
